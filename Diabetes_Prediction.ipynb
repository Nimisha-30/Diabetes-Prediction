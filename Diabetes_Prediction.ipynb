{
  "nbformat": 4,
  "nbformat_minor": 0,
  "metadata": {
    "colab": {
      "provenance": [],
      "authorship_tag": "ABX9TyNe6qEIg0zUZPYTctgDrOMh",
      "include_colab_link": true
    },
    "kernelspec": {
      "name": "python3",
      "display_name": "Python 3"
    },
    "language_info": {
      "name": "python"
    }
  },
  "cells": [
    {
      "cell_type": "markdown",
      "metadata": {
        "id": "view-in-github",
        "colab_type": "text"
      },
      "source": [
        "<a href=\"https://colab.research.google.com/github/Nimisha-30/Diabetes-Prediction/blob/main/Diabetes_Prediction.ipynb\" target=\"_parent\"><img src=\"https://colab.research.google.com/assets/colab-badge.svg\" alt=\"Open In Colab\"/></a>"
      ]
    },
    {
      "cell_type": "markdown",
      "source": [
        "# Importing Dependencies"
      ],
      "metadata": {
        "id": "BzmuKUiejyhN"
      }
    },
    {
      "cell_type": "code",
      "execution_count": null,
      "metadata": {
        "id": "45CHpQWOinQG"
      },
      "outputs": [],
      "source": [
        "import numpy as np\n",
        "import pandas as pd\n",
        "from sklearn.preprocessing import StandardScaler\n",
        "from sklearn.model_selection import train_test_split\n",
        "from sklearn import svm\n",
        "from sklearn.metrics import accuracy_score"
      ]
    },
    {
      "cell_type": "markdown",
      "source": [
        "# Data Collection and Analysis"
      ],
      "metadata": {
        "id": "kWMqC5y9kHv9"
      }
    },
    {
      "cell_type": "code",
      "source": [
        "# loading dataset\n",
        "d_ds=pd.read_csv('/content/diabetes.csv')"
      ],
      "metadata": {
        "id": "Nkpwj7RvkHEB"
      },
      "execution_count": null,
      "outputs": []
    },
    {
      "cell_type": "code",
      "source": [
        "d_ds.head()"
      ],
      "metadata": {
        "id": "OOsFwkSckX_3"
      },
      "execution_count": null,
      "outputs": []
    },
    {
      "cell_type": "code",
      "source": [
        "d_ds.shape"
      ],
      "metadata": {
        "id": "gmDD3cKrkyAY"
      },
      "execution_count": null,
      "outputs": []
    },
    {
      "cell_type": "code",
      "source": [
        "d_ds.describe()"
      ],
      "metadata": {
        "id": "Ys38HKNYk0ih"
      },
      "execution_count": null,
      "outputs": []
    },
    {
      "cell_type": "code",
      "source": [
        "d_ds['Outcome'].value_counts()"
      ],
      "metadata": {
        "id": "Z9Ug_layk0WV"
      },
      "execution_count": null,
      "outputs": []
    },
    {
      "cell_type": "code",
      "source": [
        "d_ds.groupby('Outcome').mean()"
      ],
      "metadata": {
        "id": "jVTwCfyLk0Ss"
      },
      "execution_count": null,
      "outputs": []
    },
    {
      "cell_type": "code",
      "source": [
        "# separating data and label\n",
        "x=d_ds.drop(columns='Outcome', axis=1)\n",
        "y=d_ds['Outcome']"
      ],
      "metadata": {
        "id": "E67wNdgzk0ON"
      },
      "execution_count": null,
      "outputs": []
    },
    {
      "cell_type": "markdown",
      "source": [
        "# Data Standardization"
      ],
      "metadata": {
        "id": "4MnUDXjgnjic"
      }
    },
    {
      "cell_type": "code",
      "source": [
        "scaler=StandardScaler()"
      ],
      "metadata": {
        "id": "YRGIGtcrng06"
      },
      "execution_count": null,
      "outputs": []
    },
    {
      "cell_type": "code",
      "source": [
        "scaler.fit(x)"
      ],
      "metadata": {
        "id": "LA-Ik8tHngw9"
      },
      "execution_count": null,
      "outputs": []
    },
    {
      "cell_type": "code",
      "source": [
        "std_data=scaler.transform(x)"
      ],
      "metadata": {
        "id": "w9rKCZaunguq"
      },
      "execution_count": null,
      "outputs": []
    },
    {
      "cell_type": "code",
      "source": [
        "x=std_data\n",
        "y=d_ds['Outcome']"
      ],
      "metadata": {
        "id": "VKpJFN_9ngrC"
      },
      "execution_count": null,
      "outputs": []
    },
    {
      "cell_type": "code",
      "source": [
        "# split data into training and test sets\n",
        "x_train, x_test, y_train, y_test=train_test_split(x, y, test_size=0.2, random_state=2)"
      ],
      "metadata": {
        "id": "jBNNA_4OpcCS"
      },
      "execution_count": null,
      "outputs": []
    },
    {
      "cell_type": "code",
      "source": [
        "print(x.shape, x_train.shape, x_test.shape)"
      ],
      "metadata": {
        "id": "qYfbiXTSpb-Y"
      },
      "execution_count": null,
      "outputs": []
    },
    {
      "cell_type": "code",
      "source": [
        "# training the model\n",
        "classifier=svm.SVC(kernel='linear')"
      ],
      "metadata": {
        "id": "WPX26os6pb6u"
      },
      "execution_count": null,
      "outputs": []
    },
    {
      "cell_type": "code",
      "source": [
        "classifier.fit(x_train, y_train)"
      ],
      "metadata": {
        "id": "C4r8hDe3pb2z"
      },
      "execution_count": null,
      "outputs": []
    },
    {
      "cell_type": "markdown",
      "source": [
        "# Model Evaluation"
      ],
      "metadata": {
        "id": "B69cLJWmqTCi"
      }
    },
    {
      "cell_type": "markdown",
      "source": [
        "Accuracy Score"
      ],
      "metadata": {
        "id": "xdaOW5NdqVtw"
      }
    },
    {
      "cell_type": "code",
      "source": [
        "x_train_pred=classifier.predict(x_train)\n",
        "training_data_accuracy=accuracy_score(x_train_pred, y_train)\n",
        "training_data_accuracy"
      ],
      "metadata": {
        "id": "uiB9bZrSqQNo"
      },
      "execution_count": null,
      "outputs": []
    },
    {
      "cell_type": "code",
      "source": [
        "x_test_pred=classifier.predict(x_test)\n",
        "test_data_accuracy=accuracy_score(x_test_pred, y_test)\n",
        "test_data_accuracy"
      ],
      "metadata": {
        "id": "t2LgTw9RqQKC"
      },
      "execution_count": null,
      "outputs": []
    },
    {
      "cell_type": "markdown",
      "source": [
        "# Build prediction system"
      ],
      "metadata": {
        "id": "6Ay038y3rV4y"
      }
    },
    {
      "cell_type": "code",
      "source": [
        "input_data=()\n",
        "inData_asnpArray=np.asarray(input_data)\n",
        "inData_reshaped=inData_asnpArray.reshape(1, -1)\n",
        "std_data=scaler.transform(inData_reshaped)\n",
        "prediction=classifier.predict(std_data)\n",
        "if(prediction[0]==0):\n",
        "    print('NOT diabetic')\n",
        "else:\n",
        "    print('Diabetic')"
      ],
      "metadata": {
        "id": "ZPN8RNF_rVhK"
      },
      "execution_count": null,
      "outputs": []
    }
  ]
}